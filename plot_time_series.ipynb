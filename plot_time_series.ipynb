{
 "cells": [
  {
   "cell_type": "code",
   "execution_count": 3,
   "metadata": {},
   "outputs": [],
   "source": [
    "import os\n",
    "import numpy as np\n",
    "import pandas as pd\n",
    "import matplotlib\n",
    "import matplotlib.pyplot as plt\n",
    "%matplotlib inline\n"
   ]
  },
  {
   "cell_type": "code",
   "execution_count": 4,
   "metadata": {},
   "outputs": [],
   "source": [
    "# read csv from https://raw.githubusercontent.com/nytimes/covid-19-data/master/us-states.csv\n",
    "\n",
    "df_cases_usa = pd.read_csv('https://raw.githubusercontent.com/nytimes/covid-19-data/master/us-states.csv')\n",
    "\n"
   ]
  },
  {
   "cell_type": "code",
   "execution_count": 7,
   "metadata": {
    "scrolled": true
   },
   "outputs": [],
   "source": [
    "df_WA = df_cases_usa[df_cases_usa.state=='Washington']"
   ]
  },
  {
   "cell_type": "code",
   "execution_count": 45,
   "metadata": {},
   "outputs": [
    {
     "data": {
      "text/plain": [
       "3255     2020-04-30\n",
       "3310     2020-05-01\n",
       "3365     2020-05-02\n",
       "3420     2020-05-03\n",
       "3475     2020-05-04\n",
       "3530     2020-05-05\n",
       "3585     2020-05-06\n",
       "3640     2020-05-07\n",
       "3695     2020-05-08\n",
       "3750     2020-05-09\n",
       "3805     2020-05-10\n",
       "3860     2020-05-11\n",
       "3915     2020-05-12\n",
       "3970     2020-05-13\n",
       "4025     2020-05-14\n",
       "4080     2020-05-15\n",
       "4135     2020-05-16\n",
       "4190     2020-05-17\n",
       "4245     2020-05-18\n",
       "4300     2020-05-19\n",
       "4355     2020-05-20\n",
       "4410     2020-05-21\n",
       "4465     2020-05-22\n",
       "4520     2020-05-23\n",
       "4575     2020-05-24\n",
       "4630     2020-05-25\n",
       "4685     2020-05-26\n",
       "4740     2020-05-27\n",
       "4795     2020-05-28\n",
       "4850     2020-05-29\n",
       "            ...    \n",
       "21350    2021-03-25\n",
       "21405    2021-03-26\n",
       "21460    2021-03-27\n",
       "21515    2021-03-28\n",
       "21570    2021-03-29\n",
       "21625    2021-03-30\n",
       "21680    2021-03-31\n",
       "21735    2021-04-01\n",
       "21790    2021-04-02\n",
       "21845    2021-04-03\n",
       "21900    2021-04-04\n",
       "21955    2021-04-05\n",
       "22010    2021-04-06\n",
       "22065    2021-04-07\n",
       "22120    2021-04-08\n",
       "22175    2021-04-09\n",
       "22230    2021-04-10\n",
       "22285    2021-04-11\n",
       "22340    2021-04-12\n",
       "22395    2021-04-13\n",
       "22450    2021-04-14\n",
       "22505    2021-04-15\n",
       "22560    2021-04-16\n",
       "22615    2021-04-17\n",
       "22670    2021-04-18\n",
       "22725    2021-04-19\n",
       "22780    2021-04-20\n",
       "22835    2021-04-21\n",
       "22890    2021-04-22\n",
       "22945    2021-04-23\n",
       "Name: date, Length: 359, dtype: object"
      ]
     },
     "execution_count": 45,
     "metadata": {},
     "output_type": "execute_result"
    }
   ],
   "source": [
    "df_WA['date'][100:]"
   ]
  },
  {
   "cell_type": "code",
   "execution_count": 40,
   "metadata": {},
   "outputs": [
    {
     "data": {
      "image/png": "[encoded data removed]",
      "text/plain": [
       "<Figure size 432x288 with 1 Axes>"
      ]
     },
     "metadata": {
      "needs_background": "light"
     },
     "output_type": "display_data"
    }
   ],
   "source": [
    "x = df_WA['date'][0:100:]\n",
    "y = df_WA['cases'][0:100:]\n",
    "\n",
    "fig, ax = plt.subplots(1, 1, )\n",
    "ax.plot(x, y)\n",
    "\n",
    "ticks = np.arange(0, 100, 20)\n",
    "ax.set_xticks(ticks);\n",
    "ax.set_xticklabels(x.iloc[ ticks ], rotation=45);"
   ]
  },
  {
   "cell_type": "code",
   "execution_count": null,
   "metadata": {},
   "outputs": [],
   "source": []
  }
 ],
 "metadata": {
  "kernelspec": {
   "display_name": "Python 3",
   "language": "python",
   "name": "python3"
  },
  "language_info": {
   "codemirror_mode": {
    "name": "ipython",
    "version": 3
   },
   "file_extension": ".py",
   "mimetype": "text/x-python",
   "name": "python",
   "nbconvert_exporter": "python",
   "pygments_lexer": "ipython3",
   "version": "3.6.8"
  }
 },
 "nbformat": 4,
 "nbformat_minor": 2
}
